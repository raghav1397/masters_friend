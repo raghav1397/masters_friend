{
 "cells": [
  {
   "cell_type": "code",
   "execution_count": 1,
   "metadata": {},
   "outputs": [],
   "source": [
    "import numpy as np\n",
    "import pandas as pd"
   ]
  },
  {
   "cell_type": "code",
   "execution_count": 2,
   "metadata": {},
   "outputs": [],
   "source": [
    "t = list(range(0,551,10)) + [555]\n",
    "names = []\n",
    "for i in range(1,len(t)):\n",
    "    names.append('data_'+str(t[i-1])+'_to_'+str(t[i])+'.csv')"
   ]
  },
  {
   "cell_type": "code",
   "execution_count": 3,
   "metadata": {},
   "outputs": [],
   "source": [
    "for i,f in enumerate(names):\n",
    "    try:\n",
    "        if i == 0:\n",
    "            all_df = pd.read_csv('dataset_masters/'+f)\n",
    "        if i != 0:\n",
    "            df = pd.read_csv('dataset_masters/'+f)\n",
    "            all_df = pd.concat([all_df,df], axis=0)\n",
    "    except:\n",
    "        pass"
   ]
  },
  {
   "cell_type": "code",
   "execution_count": 4,
   "metadata": {},
   "outputs": [],
   "source": [
    "def ielts_to_toefl(row):\n",
    "    if not np.isnan(row['IELTS']) and row['IELTS']<10:\n",
    "        if row['IELTS'] <=4:\n",
    "            return 31\n",
    "        elif row['IELTS'] <=4.5:\n",
    "            return 34\n",
    "        elif row['IELTS'] <=5:\n",
    "            return 45\n",
    "        elif row['IELTS'] <=5.5:\n",
    "            return 59\n",
    "        elif row['IELTS'] <=6:\n",
    "            return 78\n",
    "        elif row['IELTS'] <=6.5:\n",
    "            return 93\n",
    "        elif row['IELTS'] <=7:\n",
    "            return 101\n",
    "        elif row['IELTS'] <=7.5:\n",
    "            return 109\n",
    "        elif row['IELTS'] <=8:\n",
    "            return 114\n",
    "        elif row['IELTS'] <=8.5:\n",
    "            return 117\n",
    "        elif row['IELTS'] <=9:\n",
    "            return 120\n",
    "    elif row['IELTS']>10:\n",
    "        return row['IELTS']\n",
    "    else:\n",
    "        return row['TOEFL']"
   ]
  },
  {
   "cell_type": "code",
   "execution_count": 5,
   "metadata": {},
   "outputs": [],
   "source": [
    "all_df['NEW_TOEFL'] = all_df.apply(ielts_to_toefl, axis=1)\n",
    "all_df['TOEFL'] = all_df['NEW_TOEFL']\n",
    "all_df = all_df.drop(['NEW_TOEFL','IELTS'], axis=1)"
   ]
  },
  {
   "cell_type": "code",
   "execution_count": 6,
   "metadata": {},
   "outputs": [],
   "source": [
    "all_df = all_df.reset_index(drop=True)"
   ]
  },
  {
   "cell_type": "code",
   "execution_count": 7,
   "metadata": {},
   "outputs": [],
   "source": [
    "ind = list(all_df[all_df.isnull().any(axis=1)].index)\n",
    "all_df = all_df.drop(ind)"
   ]
  },
  {
   "cell_type": "code",
   "execution_count": 8,
   "metadata": {},
   "outputs": [],
   "source": [
    "univ = all_df['UNIVERSITY'].unique()"
   ]
  },
  {
   "cell_type": "code",
   "execution_count": 9,
   "metadata": {},
   "outputs": [],
   "source": [
    "for k in univ:\n",
    "    df = all_df[all_df['UNIVERSITY']==k].reset_index(drop=True)\n",
    "    df.to_csv('data_'+k+'.csv', index=False, sep=',')"
   ]
  },
  {
   "cell_type": "code",
   "execution_count": null,
   "metadata": {},
   "outputs": [],
   "source": []
  }
 ],
 "metadata": {
  "kernelspec": {
   "display_name": "Python 3",
   "language": "python",
   "name": "python3"
  },
  "language_info": {
   "codemirror_mode": {
    "name": "ipython",
    "version": 3
   },
   "file_extension": ".py",
   "mimetype": "text/x-python",
   "name": "python",
   "nbconvert_exporter": "python",
   "pygments_lexer": "ipython3",
   "version": "3.7.7"
  }
 },
 "nbformat": 4,
 "nbformat_minor": 4
}
